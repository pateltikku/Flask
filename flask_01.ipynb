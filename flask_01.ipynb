{
 "cells": [
  {
   "cell_type": "markdown",
   "id": "76bd0c9e-755f-4a5f-96b7-295b885278d2",
   "metadata": {},
   "source": [
    "**Q1. What is Flask Framework? What are the advantages of Flask Framework?**"
   ]
  },
  {
   "cell_type": "markdown",
   "id": "b50e4a31-18e6-4066-b9f6-69b59cd7e843",
   "metadata": {},
   "source": [
    "Flask is a tool for building websites and web applications using the Python programming language.\n",
    "\n",
    "**Advantages of Flask-**\n",
    "\n",
    "1. Flask is minimalistic and doesn't impose unnecessary features or dependencies, this makes the application lightweight.\n",
    "\n",
    "2. Developers have the freedom to choose the components and libraries that best suit their needs.\n",
    "\n",
    "3.  Flask has a lot of useful extensions that can be easily integrated into the application to add functionalities.\n",
    "\n",
    "4. Flask comes with a built-in development server, making it easy to test and debug the application during development."
   ]
  },
  {
   "cell_type": "markdown",
   "id": "2f7cf2c3-0671-48e8-b5e3-5355e9d2ca32",
   "metadata": {},
   "source": [
    "**Q2. Create a simple Flask application to display ‘Hello World!!’. Attach the screenshot of the output in\n",
    "Jupyter Notebook.**"
   ]
  },
  {
   "cell_type": "raw",
   "id": "e002ae0d-72e6-4655-954f-f13c07db3eea",
   "metadata": {},
   "source": [
    "The piece of code that will generate the output 'Hello World!!' along with the screenshot of the same is provided below-\n",
    "\n",
    "from flask import Flask\n",
    "from flask import request\n",
    "\n",
    "app = Flask(__name__)\n",
    "\n",
    "@app.route(\"/\")\n",
    "def hello_world():\n",
    "    return \"Hello, World!!\"\n",
    "\n",
    "if __name__==\"__main__\":\n",
    "    app.run(host=\"0.0.0.0\")"
   ]
  },
  {
   "cell_type": "markdown",
   "id": "70e52cf2-325a-4afd-9ee9-79ebcfe3446e",
   "metadata": {},
   "source": [
    "![](hello_world!!.png)"
   ]
  },
  {
   "cell_type": "markdown",
   "id": "42d3a700-7919-4cdf-84e1-69e28a4a7a3d",
   "metadata": {},
   "source": [
    "**Q3. What is App routing in Flask? Why do we use app routes?**"
   ]
  },
  {
   "cell_type": "markdown",
   "id": "c194ffbf-f667-40d0-b66f-df49c819c61f",
   "metadata": {},
   "source": [
    "In Flask, \"app routing\" refers to the process of mapping URLs to specific functions. Flask provides a way to define these mappings using decorators, often referred to as \"app routes.\"\n",
    "\n",
    "**Why it is used-**\n",
    "\n",
    "1. App routes helps to organize the code by separating different parts of the web application.\n",
    "\n",
    "2. App routes define how a user will navigate through the website or web application. It determines what content will be displayed when a user visits a particular URL, which allows to create a logical and user-friendly structure for the website.\n",
    "\n",
    "3. Flask allows to define error-handling routes, which makes it easier to handle different types of errors."
   ]
  },
  {
   "cell_type": "markdown",
   "id": "3ada0d5f-2973-46a9-a1cb-a30d2560cc8e",
   "metadata": {},
   "source": [
    "**Q4.  Create a “/welcome” route to display the welcome message “Welcome to ABC Corporation” and a “/”\n",
    "route to show the following details:**\n",
    "\n",
    "    Company Name: ABC Corporation\n",
    "\n",
    "    Location: India\n",
    "\n",
    "    Contact Detail: 999-999-9999"
   ]
  },
  {
   "cell_type": "raw",
   "id": "dbaf5d07-bd24-44cb-a602-7df40a6e2760",
   "metadata": {},
   "source": [
    "The code which has been used to generate the above response along with the screenshot of the output is provided below-\n",
    "\n",
    "from flask import Flask\n",
    "\n",
    "app = Flask(__name__)\n",
    "\n",
    "@app.route(\"/welcome\")\n",
    "def welcome():\n",
    "    return \"Welcome to ABC Corporation\"\n",
    "\n",
    "@app.route(\"/\")\n",
    "def company_details():\n",
    "    company_info = {\n",
    "        \"company_name\": \"ABC Corporation\",\n",
    "        \"location\": \"India\",\n",
    "        \"contact_detail\": \"999-999-9999\"\n",
    "    }\n",
    "\n",
    "    \n",
    "    company_details_text = f\"Company Name: {company_info['company_name']}<br>Location: {company_info['location']}<br>Contact Detail: {company_info['contact_detail']}\"\n",
    "\n",
    "   \n",
    "    return company_details_text\n",
    "\n",
    "if __name__ == \"__main__\":\n",
    "    app.run(host=\"0.0.0.0\")"
   ]
  },
  {
   "cell_type": "markdown",
   "id": "5e3c5e8a-fa88-4f12-9754-7dbfd125bd6b",
   "metadata": {},
   "source": [
    "![](ABC_corporation.png)"
   ]
  },
  {
   "cell_type": "markdown",
   "id": "4492a881-3275-4ccb-a688-932405f2390b",
   "metadata": {},
   "source": [
    "**Q5. What function is used in Flask for URL Building? Write a Python code to demonstrate the working of the\n",
    "url_for() function.**"
   ]
  },
  {
   "cell_type": "markdown",
   "id": "5332f748-6c9a-4b6f-bed0-b7153b9d6e7e",
   "metadata": {},
   "source": [
    "In Flask, the url_for() function is used for URL building. It generates a URL for a specified function by taking into account the function's name and any other arguments it requires. A relevant example is demonstrated below-"
   ]
  },
  {
   "cell_type": "code",
   "execution_count": 2,
   "id": "178737a0-bc90-42f1-bbb2-e8c578e1febf",
   "metadata": {},
   "outputs": [
    {
     "name": "stdout",
     "output_type": "stream",
     "text": [
      "Collecting flask\n",
      "  Downloading flask-2.3.3-py3-none-any.whl (96 kB)\n",
      "\u001b[2K     \u001b[90m━━━━━━━━━━━━━━━━━━━━━━━━━━━━━━━━━━━━━━━━\u001b[0m \u001b[32m96.1/96.1 kB\u001b[0m \u001b[31m3.6 MB/s\u001b[0m eta \u001b[36m0:00:00\u001b[0m\n",
      "\u001b[?25hCollecting itsdangerous>=2.1.2\n",
      "  Downloading itsdangerous-2.1.2-py3-none-any.whl (15 kB)\n",
      "Requirement already satisfied: Jinja2>=3.1.2 in /opt/conda/lib/python3.10/site-packages (from flask) (3.1.2)\n",
      "Collecting blinker>=1.6.2\n",
      "  Downloading blinker-1.6.2-py3-none-any.whl (13 kB)\n",
      "Requirement already satisfied: click>=8.1.3 in /opt/conda/lib/python3.10/site-packages (from flask) (8.1.3)\n",
      "Collecting Werkzeug>=2.3.7\n",
      "  Downloading werkzeug-2.3.7-py3-none-any.whl (242 kB)\n",
      "\u001b[2K     \u001b[90m━━━━━━━━━━━━━━━━━━━━━━━━━━━━━━━━━━━━━━\u001b[0m \u001b[32m242.2/242.2 kB\u001b[0m \u001b[31m29.0 MB/s\u001b[0m eta \u001b[36m0:00:00\u001b[0m\n",
      "\u001b[?25hRequirement already satisfied: MarkupSafe>=2.0 in /opt/conda/lib/python3.10/site-packages (from Jinja2>=3.1.2->flask) (2.1.1)\n",
      "Installing collected packages: Werkzeug, itsdangerous, blinker, flask\n",
      "  Attempting uninstall: blinker\n",
      "    Found existing installation: blinker 1.5\n",
      "    Uninstalling blinker-1.5:\n",
      "      Successfully uninstalled blinker-1.5\n",
      "Successfully installed Werkzeug-2.3.7 blinker-1.6.2 flask-2.3.3 itsdangerous-2.1.2\n",
      "Note: you may need to restart the kernel to use updated packages.\n"
     ]
    }
   ],
   "source": [
    "pip install flask"
   ]
  },
  {
   "cell_type": "code",
   "execution_count": 3,
   "id": "851ae1f8-1f40-49ae-ba70-be3752d6841a",
   "metadata": {},
   "outputs": [],
   "source": [
    "from flask import Flask, url_for"
   ]
  },
  {
   "cell_type": "code",
   "execution_count": 5,
   "id": "a5c9a550-94fc-4b6d-b41a-90c36e2c6ee6",
   "metadata": {},
   "outputs": [
    {
     "name": "stdout",
     "output_type": "stream",
     "text": [
      " * Serving Flask app '__main__'\n",
      " * Debug mode: off\n"
     ]
    },
    {
     "name": "stderr",
     "output_type": "stream",
     "text": [
      "WARNING: This is a development server. Do not use it in a production deployment. Use a production WSGI server instead.\n",
      " * Running on all addresses (0.0.0.0)\n",
      " * Running on http://127.0.0.1:5000\n",
      " * Running on http://172.18.0.6:5000\n",
      "Press CTRL+C to quit\n",
      "172.18.0.2 - - [29/Sep/2023 10:40:18] \"GET / HTTP/1.1\" 200 -\n",
      "172.18.0.2 - - [29/Sep/2023 10:40:19] \"GET / HTTP/1.1\" 200 -\n",
      "172.18.0.2 - - [29/Sep/2023 10:40:32] \"GET / HTTP/1.1\" 200 -\n"
     ]
    },
    {
     "ename": "RuntimeError",
     "evalue": "Working outside of application context.\n\nThis typically means that you attempted to use functionality that needed\nthe current application. To solve this, set up an application context\nwith app.app_context(). See the documentation for more information.",
     "output_type": "error",
     "traceback": [
      "\u001b[0;31m---------------------------------------------------------------------------\u001b[0m",
      "\u001b[0;31mRuntimeError\u001b[0m                              Traceback (most recent call last)",
      "Cell \u001b[0;32mIn[5], line 9\u001b[0m\n\u001b[1;32m      7\u001b[0m \u001b[38;5;28;01mif\u001b[39;00m \u001b[38;5;18m__name__\u001b[39m \u001b[38;5;241m==\u001b[39m \u001b[38;5;124m'\u001b[39m\u001b[38;5;124m__main__\u001b[39m\u001b[38;5;124m'\u001b[39m:\n\u001b[1;32m      8\u001b[0m         app\u001b[38;5;241m.\u001b[39mrun(host\u001b[38;5;241m=\u001b[39m\u001b[38;5;124m\"\u001b[39m\u001b[38;5;124m0.0.0.0\u001b[39m\u001b[38;5;124m\"\u001b[39m)\n\u001b[0;32m----> 9\u001b[0m         home_url \u001b[38;5;241m=\u001b[39m \u001b[43murl_for\u001b[49m\u001b[43m(\u001b[49m\u001b[38;5;124;43m'\u001b[39;49m\u001b[38;5;124;43mhome\u001b[39;49m\u001b[38;5;124;43m'\u001b[39;49m\u001b[43m)\u001b[49m\n\u001b[1;32m     10\u001b[0m         \u001b[38;5;28mprint\u001b[39m(\u001b[38;5;124m\"\u001b[39m\u001b[38;5;124mURL for \u001b[39m\u001b[38;5;124m'\u001b[39m\u001b[38;5;124mhome\u001b[39m\u001b[38;5;124m'\u001b[39m\u001b[38;5;124m:\u001b[39m\u001b[38;5;124m\"\u001b[39m, home_url)\n",
      "File \u001b[0;32m/opt/conda/lib/python3.10/site-packages/flask/helpers.py:225\u001b[0m, in \u001b[0;36murl_for\u001b[0;34m(endpoint, _anchor, _method, _scheme, _external, **values)\u001b[0m\n\u001b[1;32m    181\u001b[0m \u001b[38;5;28;01mdef\u001b[39;00m \u001b[38;5;21murl_for\u001b[39m(\n\u001b[1;32m    182\u001b[0m     endpoint: \u001b[38;5;28mstr\u001b[39m,\n\u001b[1;32m    183\u001b[0m     \u001b[38;5;241m*\u001b[39m,\n\u001b[0;32m   (...)\u001b[0m\n\u001b[1;32m    188\u001b[0m     \u001b[38;5;241m*\u001b[39m\u001b[38;5;241m*\u001b[39mvalues: t\u001b[38;5;241m.\u001b[39mAny,\n\u001b[1;32m    189\u001b[0m ) \u001b[38;5;241m-\u001b[39m\u001b[38;5;241m>\u001b[39m \u001b[38;5;28mstr\u001b[39m:\n\u001b[1;32m    190\u001b[0m     \u001b[38;5;124;03m\"\"\"Generate a URL to the given endpoint with the given values.\u001b[39;00m\n\u001b[1;32m    191\u001b[0m \n\u001b[1;32m    192\u001b[0m \u001b[38;5;124;03m    This requires an active request or application context, and calls\u001b[39;00m\n\u001b[0;32m   (...)\u001b[0m\n\u001b[1;32m    223\u001b[0m \u001b[38;5;124;03m       Calls ``app.handle_url_build_error`` on build errors.\u001b[39;00m\n\u001b[1;32m    224\u001b[0m \u001b[38;5;124;03m    \"\"\"\u001b[39;00m\n\u001b[0;32m--> 225\u001b[0m     \u001b[38;5;28;01mreturn\u001b[39;00m \u001b[43mcurrent_app\u001b[49m\u001b[38;5;241;43m.\u001b[39;49m\u001b[43murl_for\u001b[49m(\n\u001b[1;32m    226\u001b[0m         endpoint,\n\u001b[1;32m    227\u001b[0m         _anchor\u001b[38;5;241m=\u001b[39m_anchor,\n\u001b[1;32m    228\u001b[0m         _method\u001b[38;5;241m=\u001b[39m_method,\n\u001b[1;32m    229\u001b[0m         _scheme\u001b[38;5;241m=\u001b[39m_scheme,\n\u001b[1;32m    230\u001b[0m         _external\u001b[38;5;241m=\u001b[39m_external,\n\u001b[1;32m    231\u001b[0m         \u001b[38;5;241m*\u001b[39m\u001b[38;5;241m*\u001b[39mvalues,\n\u001b[1;32m    232\u001b[0m     )\n",
      "File \u001b[0;32m/opt/conda/lib/python3.10/site-packages/werkzeug/local.py:311\u001b[0m, in \u001b[0;36m_ProxyLookup.__get__\u001b[0;34m(self, instance, owner)\u001b[0m\n\u001b[1;32m    308\u001b[0m     \u001b[38;5;28;01mreturn\u001b[39;00m \u001b[38;5;28mself\u001b[39m\n\u001b[1;32m    310\u001b[0m \u001b[38;5;28;01mtry\u001b[39;00m:\n\u001b[0;32m--> 311\u001b[0m     obj \u001b[38;5;241m=\u001b[39m \u001b[43minstance\u001b[49m\u001b[38;5;241;43m.\u001b[39;49m\u001b[43m_get_current_object\u001b[49m\u001b[43m(\u001b[49m\u001b[43m)\u001b[49m\n\u001b[1;32m    312\u001b[0m \u001b[38;5;28;01mexcept\u001b[39;00m \u001b[38;5;167;01mRuntimeError\u001b[39;00m:\n\u001b[1;32m    313\u001b[0m     \u001b[38;5;28;01mif\u001b[39;00m \u001b[38;5;28mself\u001b[39m\u001b[38;5;241m.\u001b[39mfallback \u001b[38;5;129;01mis\u001b[39;00m \u001b[38;5;28;01mNone\u001b[39;00m:\n",
      "File \u001b[0;32m/opt/conda/lib/python3.10/site-packages/werkzeug/local.py:508\u001b[0m, in \u001b[0;36mLocalProxy.__init__.<locals>._get_current_object\u001b[0;34m()\u001b[0m\n\u001b[1;32m    506\u001b[0m     obj \u001b[38;5;241m=\u001b[39m local\u001b[38;5;241m.\u001b[39mget()\n\u001b[1;32m    507\u001b[0m \u001b[38;5;28;01mexcept\u001b[39;00m \u001b[38;5;167;01mLookupError\u001b[39;00m:\n\u001b[0;32m--> 508\u001b[0m     \u001b[38;5;28;01mraise\u001b[39;00m \u001b[38;5;167;01mRuntimeError\u001b[39;00m(unbound_message) \u001b[38;5;28;01mfrom\u001b[39;00m \u001b[38;5;28mNone\u001b[39m\n\u001b[1;32m    510\u001b[0m \u001b[38;5;28;01mreturn\u001b[39;00m get_name(obj)\n",
      "\u001b[0;31mRuntimeError\u001b[0m: Working outside of application context.\n\nThis typically means that you attempted to use functionality that needed\nthe current application. To solve this, set up an application context\nwith app.app_context(). See the documentation for more information."
     ]
    }
   ],
   "source": [
    "app = Flask(__name__)\n",
    "\n",
    "@app.route('/')\n",
    "def home():\n",
    "    return 'Welcome to the home page!'\n",
    "\n",
    "if __name__ == '__main__':\n",
    "        app.run(host=\"0.0.0.0\")\n",
    "        home_url = url_for('home')\n",
    "        print(\"URL for 'home':\", home_url)"
   ]
  },
  {
   "cell_type": "markdown",
   "id": "3defc455-3ab8-44ac-bc0a-add32d560095",
   "metadata": {},
   "source": [
    "![](url_for.png)"
   ]
  },
  {
   "cell_type": "code",
   "execution_count": null,
   "id": "85e8d044-89c1-4cfc-9160-4be1c3d17833",
   "metadata": {},
   "outputs": [],
   "source": []
  }
 ],
 "metadata": {
  "kernelspec": {
   "display_name": "Python 3 (ipykernel)",
   "language": "python",
   "name": "python3"
  },
  "language_info": {
   "codemirror_mode": {
    "name": "ipython",
    "version": 3
   },
   "file_extension": ".py",
   "mimetype": "text/x-python",
   "name": "python",
   "nbconvert_exporter": "python",
   "pygments_lexer": "ipython3",
   "version": "3.10.8"
  }
 },
 "nbformat": 4,
 "nbformat_minor": 5
}
